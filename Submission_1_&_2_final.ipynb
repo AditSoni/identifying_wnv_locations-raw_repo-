{
 "cells": [
  {
   "cell_type": "code",
   "execution_count": 1,
   "metadata": {},
   "outputs": [],
   "source": [
    "import pandas as pd\n",
    "import numpy as np\n",
    "from sklearn.preprocessing import Imputer\n",
    "from sklearn.decomposition import PCA\n",
    "from sklearn.model_selection import train_test_split, GridSearchCV\n",
    "from sklearn.metrics import precision_score, accuracy_score\n",
    "from sklearn.linear_model import LogisticRegression\n",
    "from sklearn.tree import DecisionTreeClassifier\n",
    "from sklearn.preprocessing import StandardScaler\n",
    "from sklearn.pipeline import Pipeline\n",
    "import matplotlib.pyplot as plt\n",
    "import seaborn as sns\n",
    "%matplotlib inline"
   ]
  },
  {
   "cell_type": "code",
   "execution_count": 2,
   "metadata": {},
   "outputs": [],
   "source": [
    "test_df = pd.read_csv('./kaggle_data/test.csv')\n",
    "train_df = pd.read_csv('./kaggle_data/train.csv')\n",
    "weather_df = pd.read_csv('./kaggle_data/weather.csv')"
   ]
  },
  {
   "cell_type": "code",
   "execution_count": 3,
   "metadata": {},
   "outputs": [],
   "source": [
    "daily_weather = weather_df[weather_df['Station'] == 1] # creating weather data df using only one station"
   ]
  },
  {
   "cell_type": "code",
   "execution_count": 4,
   "metadata": {},
   "outputs": [
    {
     "name": "stderr",
     "output_type": "stream",
     "text": [
      "/home/ryan/anaconda3/lib/python3.6/site-packages/pandas/core/frame.py:3694: SettingWithCopyWarning: \n",
      "A value is trying to be set on a copy of a slice from a DataFrame\n",
      "\n",
      "See the caveats in the documentation: http://pandas.pydata.org/pandas-docs/stable/indexing.html#indexing-view-versus-copy\n",
      "  errors=errors)\n"
     ]
    }
   ],
   "source": [
    "daily_weather.drop('Station', axis= 1, inplace=True) # dropping station label since all are station 1"
   ]
  },
  {
   "cell_type": "code",
   "execution_count": 5,
   "metadata": {},
   "outputs": [
    {
     "name": "stderr",
     "output_type": "stream",
     "text": [
      "/home/ryan/anaconda3/lib/python3.6/site-packages/ipykernel_launcher.py:3: SettingWithCopyWarning: \n",
      "A value is trying to be set on a copy of a slice from a DataFrame.\n",
      "Try using .loc[row_indexer,col_indexer] = value instead\n",
      "\n",
      "See the caveats in the documentation: http://pandas.pydata.org/pandas-docs/stable/indexing.html#indexing-view-versus-copy\n",
      "  This is separate from the ipykernel package so we can avoid doing imports until\n"
     ]
    }
   ],
   "source": [
    "daily_weather.reset_index(inplace=True, drop=True) \n",
    "\n",
    "daily_weather['Date'] = pd.to_datetime(daily_weather['Date']) \n",
    "\n",
    "daily_weather.set_index('Date',inplace=True, drop=True) # datetime index on weather data"
   ]
  },
  {
   "cell_type": "code",
   "execution_count": 6,
   "metadata": {},
   "outputs": [],
   "source": [
    "train_df['Date'] = pd.to_datetime(train_df['Date']) #datetime index on training data\n",
    "test_df['Date'] = pd.to_datetime(test_df['Date'])\n",
    "train_df.set_index('Date', inplace=True, drop=True)\n",
    "test_df.set_index('Date', inplace=True, drop = True)"
   ]
  },
  {
   "cell_type": "code",
   "execution_count": 7,
   "metadata": {},
   "outputs": [],
   "source": [
    "train_df = pd.merge(train_df, \n",
    "                  daily_weather, \n",
    "                  left_index = True, right_index = True)\n",
    "test_df = pd.merge(test_df, \n",
    "                 daily_weather, \n",
    "                  left_index = True, right_index = True)#new_df = combined weather and train data"
   ]
  },
  {
   "cell_type": "code",
   "execution_count": 8,
   "metadata": {
    "scrolled": true
   },
   "outputs": [],
   "source": [
    "train_df.drop(['Water1','SnowFall'], axis=1, inplace=True) # dropping these columns since they provided no info\n",
    "test_df.drop(['Water1','SnowFall'], axis=1, inplace=True) # dropping these columns since they provided no info"
   ]
  },
  {
   "cell_type": "code",
   "execution_count": 9,
   "metadata": {},
   "outputs": [],
   "source": [
    "mode_precip = float(train_df[train_df['PrecipTotal'] != '  T'].PrecipTotal.mode()[0]) # storing mode precip value for replacement in next step"
   ]
  },
  {
   "cell_type": "code",
   "execution_count": 10,
   "metadata": {},
   "outputs": [],
   "source": [
    "train_precip_totals = []\n",
    "for total in train_df.PrecipTotal:\n",
    "    if total == '  T':\n",
    "        train_precip_totals.append(mode_precip)\n",
    "    else:\n",
    "        train_precip_totals.append(total)\n",
    "\n",
    "train_df.PrecipTotal = pd.to_numeric(train_precip_totals) # replacing '  T' with mode precip value"
   ]
  },
  {
   "cell_type": "code",
   "execution_count": 11,
   "metadata": {},
   "outputs": [],
   "source": [
    "test_precip_totals = []\n",
    "for total in test_df.PrecipTotal:\n",
    "    if total == '  T':\n",
    "        test_precip_totals.append(mode_precip)\n",
    "    else:\n",
    "        test_precip_totals.append(total)\n",
    "\n",
    "test_df.PrecipTotal = pd.to_numeric(test_precip_totals) # replacing '  T' with mode precip value"
   ]
  },
  {
   "cell_type": "code",
   "execution_count": 12,
   "metadata": {},
   "outputs": [],
   "source": [
    "mode_pressure = train_df[train_df['StnPressure'] != 'M'].StnPressure.mode() # storing mode pressure for replacement in next step"
   ]
  },
  {
   "cell_type": "code",
   "execution_count": 13,
   "metadata": {},
   "outputs": [],
   "source": [
    "train_pressures = []\n",
    "for pressure in train_df.StnPressure:\n",
    "    if pressure == 'M':\n",
    "        train_pressures.append(mode_pressure)\n",
    "    else:\n",
    "        train_pressures.append(pressure)\n",
    "train_pressures = [float(pressure) for pressure in train_pressures]\n",
    "\n",
    "train_df.StnPressure = pd.to_numeric(train_pressures) # replacing 'M' with mode pressure value"
   ]
  },
  {
   "cell_type": "code",
   "execution_count": 14,
   "metadata": {},
   "outputs": [],
   "source": [
    "test_pressures = []\n",
    "for pressure in test_df.StnPressure:\n",
    "    if pressure == 'M':\n",
    "        test_pressures.append(mode_pressure)\n",
    "    else:\n",
    "        test_pressures.append(pressure)\n",
    "test_pressures = [float(pressure) for pressure in test_pressures]\n",
    "\n",
    "test_df.StnPressure = pd.to_numeric(test_pressures) # replacing 'M' with mode pressure value"
   ]
  },
  {
   "cell_type": "code",
   "execution_count": 15,
   "metadata": {},
   "outputs": [],
   "source": [
    "#new_df.dtypes\n",
    "cols_to_change = ['Tavg',\n",
    "                 'Depart',\n",
    "                 'Cool',\n",
    "                 'Sunrise',\n",
    "                 'Sunset',\n",
    "                 'Depth',\n",
    "                 'PrecipTotal',\n",
    "                 'StnPressure',\n",
    "                 'SeaLevel',\n",
    "                 'AvgSpeed'\n",
    "                 ] # columns of type object that can be coerced to numeric values"
   ]
  },
  {
   "cell_type": "code",
   "execution_count": 17,
   "metadata": {},
   "outputs": [],
   "source": [
    "for col in cols_to_change:\n",
    "    train_df[col] = pd.to_numeric(train_df[col])\n",
    "    test_df[col] = pd.to_numeric(test_df[col])#changing columns above to numeric"
   ]
  },
  {
   "cell_type": "code",
   "execution_count": 19,
   "metadata": {},
   "outputs": [],
   "source": [
    "train_df.drop('NumMosquitos', axis = 1, inplace = True)"
   ]
  },
  {
   "cell_type": "code",
   "execution_count": 20,
   "metadata": {},
   "outputs": [],
   "source": [
    "wnv1_df = train_df[train_df['WnvPresent'] == 1]"
   ]
  },
  {
   "cell_type": "code",
   "execution_count": 21,
   "metadata": {},
   "outputs": [],
   "source": [
    "wnv0_df = train_df[train_df['WnvPresent'] == 0].sample(n = wnv1_df.shape[0], random_state = 21)"
   ]
  },
  {
   "cell_type": "code",
   "execution_count": 22,
   "metadata": {},
   "outputs": [],
   "source": [
    "train_df = pd.concat([wnv1_df, wnv0_df], axis = 0)"
   ]
  },
  {
   "cell_type": "code",
   "execution_count": 23,
   "metadata": {},
   "outputs": [],
   "source": [
    "submission_ids = test_df.Id"
   ]
  },
  {
   "cell_type": "code",
   "execution_count": 24,
   "metadata": {},
   "outputs": [],
   "source": [
    "test_df.drop('Id', axis = 1, inplace = True)"
   ]
  },
  {
   "cell_type": "code",
   "execution_count": 26,
   "metadata": {
    "scrolled": true
   },
   "outputs": [],
   "source": [
    "num_train = train_df._get_numeric_data()\n",
    "num_test = test_df._get_numeric_data()"
   ]
  },
  {
   "cell_type": "code",
   "execution_count": 28,
   "metadata": {
    "scrolled": true
   },
   "outputs": [],
   "source": [
    "X = num_train.drop('WnvPresent', axis = 1)\n",
    "y = num_train.WnvPresent"
   ]
  },
  {
   "cell_type": "code",
   "execution_count": 29,
   "metadata": {},
   "outputs": [],
   "source": [
    "X_train, X_test, y_train, y_test = train_test_split(X,y,test_size = .25, shuffle = True)"
   ]
  },
  {
   "cell_type": "code",
   "execution_count": 30,
   "metadata": {},
   "outputs": [],
   "source": [
    "ss = StandardScaler()"
   ]
  },
  {
   "cell_type": "code",
   "execution_count": 31,
   "metadata": {},
   "outputs": [
    {
     "data": {
      "text/plain": [
       "StandardScaler(copy=True, with_mean=True, with_std=True)"
      ]
     },
     "execution_count": 31,
     "metadata": {},
     "output_type": "execute_result"
    }
   ],
   "source": [
    "ss.fit(X_train)"
   ]
  },
  {
   "cell_type": "code",
   "execution_count": 32,
   "metadata": {},
   "outputs": [],
   "source": [
    "X_train = ss.transform(X_train)\n",
    "X_test = ss.transform(X_test)\n",
    "num_test = ss.transform(num_test)"
   ]
  },
  {
   "cell_type": "code",
   "execution_count": 33,
   "metadata": {},
   "outputs": [],
   "source": [
    "pca = PCA()"
   ]
  },
  {
   "cell_type": "code",
   "execution_count": 34,
   "metadata": {},
   "outputs": [
    {
     "data": {
      "text/plain": [
       "PCA(copy=True, iterated_power='auto', n_components=None, random_state=None,\n",
       "  svd_solver='auto', tol=0.0, whiten=False)"
      ]
     },
     "execution_count": 34,
     "metadata": {},
     "output_type": "execute_result"
    }
   ],
   "source": [
    "pca.fit(X_train)"
   ]
  },
  {
   "cell_type": "code",
   "execution_count": 35,
   "metadata": {},
   "outputs": [],
   "source": [
    "Z_train = pca.transform(X_train)\n",
    "Z_test = pca.transform(X_test)\n",
    "ZTEST = pca.transform(num_test)"
   ]
  },
  {
   "cell_type": "code",
   "execution_count": 36,
   "metadata": {},
   "outputs": [],
   "source": [
    "from sklearn.ensemble import RandomForestClassifier, AdaBoostClassifier, GradientBoostingClassifier"
   ]
  },
  {
   "cell_type": "markdown",
   "metadata": {},
   "source": [
    "## Random Forrest on Numerical Data"
   ]
  },
  {
   "cell_type": "code",
   "execution_count": 37,
   "metadata": {},
   "outputs": [
    {
     "data": {
      "text/plain": [
       "{'min_samples_split': 4, 'n_estimators': 10, 'random_state': 21}"
      ]
     },
     "execution_count": 37,
     "metadata": {},
     "output_type": "execute_result"
    }
   ],
   "source": [
    "rf = RandomForestClassifier(n_jobs=4)\n",
    "rf_params = {'n_estimators':[8,10,12,14,20],\n",
    "            'min_samples_split':[2,3,4],\n",
    "            'random_state':[1,21,31,100]}\n",
    "rf_gs = GridSearchCV(rf, rf_params, n_jobs=4)\n",
    "rf_gs.fit(Z_train, y_train)\n",
    "rf_gs.best_params_"
   ]
  },
  {
   "cell_type": "code",
   "execution_count": 38,
   "metadata": {},
   "outputs": [],
   "source": [
    "rf_preds = rf_gs.predict(ZTEST)"
   ]
  },
  {
   "cell_type": "code",
   "execution_count": null,
   "metadata": {},
   "outputs": [],
   "source": [
    "precision_score(y_test, rf_preds), accuracy_score(y_test, rf_preds)"
   ]
  },
  {
   "cell_type": "code",
   "execution_count": null,
   "metadata": {},
   "outputs": [],
   "source": [
    "len(rf_preds), len(X_test)"
   ]
  },
  {
   "cell_type": "code",
   "execution_count": 45,
   "metadata": {},
   "outputs": [],
   "source": [
    "pred_df = pd.DataFrame({'Id': submission_ids, 'WnvPresent':rf_preds})"
   ]
  },
  {
   "cell_type": "code",
   "execution_count": 47,
   "metadata": {},
   "outputs": [],
   "source": [
    "pred_df.to_csv('./predictions1.csv', index=False)"
   ]
  },
  {
   "cell_type": "markdown",
   "metadata": {},
   "source": [
    "## AdaBoost on Numerical Data"
   ]
  },
  {
   "cell_type": "code",
   "execution_count": 48,
   "metadata": {},
   "outputs": [
    {
     "data": {
      "text/plain": [
       "GridSearchCV(cv=None, error_score='raise',\n",
       "       estimator=AdaBoostClassifier(algorithm='SAMME.R', base_estimator=None,\n",
       "          learning_rate=1.0, n_estimators=50, random_state=None),\n",
       "       fit_params=None, iid=True, n_jobs=4,\n",
       "       param_grid={'n_estimators': [30, 40, 50, 60, 80], 'learning_rate': [0.8, 0.4, 0.1]},\n",
       "       pre_dispatch='2*n_jobs', refit=True, return_train_score='warn',\n",
       "       scoring=None, verbose=0)"
      ]
     },
     "execution_count": 48,
     "metadata": {},
     "output_type": "execute_result"
    }
   ],
   "source": [
    "ada = AdaBoostClassifier()\n",
    "ada_params = {'n_estimators':[30,40,50,60,80],\n",
    "             'learning_rate':[.8,.4,.1],}\n",
    "ada_gs = GridSearchCV(ada, ada_params, n_jobs=4)\n",
    "ada_gs.fit(Z_train, y_train)"
   ]
  },
  {
   "cell_type": "code",
   "execution_count": 49,
   "metadata": {},
   "outputs": [],
   "source": [
    "ada_preds = ada_gs.predict(ZTEST)"
   ]
  },
  {
   "cell_type": "code",
   "execution_count": 50,
   "metadata": {},
   "outputs": [
    {
     "data": {
      "text/plain": [
       "array([0, 0, 0, ..., 0, 0, 0])"
      ]
     },
     "execution_count": 50,
     "metadata": {},
     "output_type": "execute_result"
    }
   ],
   "source": []
  },
  {
   "cell_type": "code",
   "execution_count": null,
   "metadata": {},
   "outputs": [],
   "source": [
    "ada_gs.best_params_"
   ]
  },
  {
   "cell_type": "code",
   "execution_count": null,
   "metadata": {},
   "outputs": [],
   "source": [
    "precision_score(y_test, ada_preds), accuracy_score(y_test, ada_preds)"
   ]
  },
  {
   "cell_type": "markdown",
   "metadata": {},
   "source": [
    "## Gradient Boost on Numerical Data"
   ]
  },
  {
   "cell_type": "code",
   "execution_count": 51,
   "metadata": {},
   "outputs": [
    {
     "data": {
      "text/plain": [
       "GridSearchCV(cv=None, error_score='raise',\n",
       "       estimator=GradientBoostingClassifier(criterion='friedman_mse', init=None,\n",
       "              learning_rate=0.1, loss='deviance', max_depth=3,\n",
       "              max_features=None, max_leaf_nodes=None,\n",
       "              min_impurity_decrease=0.0, min_impurity_split=None,\n",
       "              min_samples_leaf=1, min_samples_split=2,\n",
       "              min_weight_fraction_leaf=0.0, n_estimators=100,\n",
       "              presort='auto', random_state=None, subsample=1.0, verbose=0,\n",
       "              warm_start=False),\n",
       "       fit_params=None, iid=True, n_jobs=4,\n",
       "       param_grid={'learning_rate': [0.01, 0.05, 0.1, 0.3, 0.5], 'n_estimators': [50, 80, 100, 120], 'min_samples_split': [2, 3, 4]},\n",
       "       pre_dispatch='2*n_jobs', refit=True, return_train_score='warn',\n",
       "       scoring=None, verbose=0)"
      ]
     },
     "execution_count": 51,
     "metadata": {},
     "output_type": "execute_result"
    }
   ],
   "source": [
    "xgb = GradientBoostingClassifier()\n",
    "xgb_params = {'learning_rate':[.01, .05, .1, .3, .5],\n",
    "             'n_estimators':[50,80, 100, 120],\n",
    "             'min_samples_split':[2,3,4]}\n",
    "xgb_gs = GridSearchCV(xgb, xgb_params, n_jobs=4)\n",
    "xgb_gs.fit(Z_train, y_train)"
   ]
  },
  {
   "cell_type": "code",
   "execution_count": 52,
   "metadata": {},
   "outputs": [
    {
     "data": {
      "text/plain": [
       "{'learning_rate': 0.05, 'min_samples_split': 3, 'n_estimators': 100}"
      ]
     },
     "execution_count": 52,
     "metadata": {},
     "output_type": "execute_result"
    }
   ],
   "source": [
    "xgb_gs.best_params_"
   ]
  },
  {
   "cell_type": "code",
   "execution_count": 53,
   "metadata": {},
   "outputs": [],
   "source": [
    "xgb_preds = xgb_gs.predict(ZTEST)"
   ]
  },
  {
   "cell_type": "code",
   "execution_count": 54,
   "metadata": {},
   "outputs": [],
   "source": [
    "xgb_pred_df = pd.DataFrame({'Id': submission_ids, 'WnvPresent':xgb_preds})"
   ]
  },
  {
   "cell_type": "code",
   "execution_count": 55,
   "metadata": {},
   "outputs": [],
   "source": [
    "xgb_pred_df.to_csv('./predictions2.csv', index=False)"
   ]
  },
  {
   "cell_type": "code",
   "execution_count": null,
   "metadata": {},
   "outputs": [],
   "source": [
    "precision_score(y_test, xgb_preds), accuracy_score(y_test, xgb_preds)"
   ]
  },
  {
   "cell_type": "markdown",
   "metadata": {},
   "source": [
    "## Trying same three models on dummied data"
   ]
  },
  {
   "cell_type": "code",
   "execution_count": null,
   "metadata": {},
   "outputs": [],
   "source": [
    "df.columns"
   ]
  },
  {
   "cell_type": "code",
   "execution_count": null,
   "metadata": {},
   "outputs": [],
   "source": [
    "dummies_df = pd.get_dummies(df.drop(['Address','Street'], axis = 1))"
   ]
  },
  {
   "cell_type": "code",
   "execution_count": null,
   "metadata": {},
   "outputs": [],
   "source": [
    "X_dum = dummies_df.drop('WnvPresent', axis = 1)\n",
    "y = dummies_df.WnvPresent"
   ]
  },
  {
   "cell_type": "code",
   "execution_count": null,
   "metadata": {},
   "outputs": [],
   "source": [
    "Xdum_train, Xdum_test, ydum_train, ydum_test = train_test_split(X_dum, y, test_size = .25)"
   ]
  },
  {
   "cell_type": "code",
   "execution_count": null,
   "metadata": {},
   "outputs": [],
   "source": [
    "ss_dum = StandardScaler()\n",
    "ss_dum.fit(Xdum_train)"
   ]
  },
  {
   "cell_type": "code",
   "execution_count": null,
   "metadata": {},
   "outputs": [],
   "source": [
    "Xdum_train = ss_dum.transform(Xdum_train)\n",
    "Xdum_test = ss_dum.transform(Xdum_test)"
   ]
  },
  {
   "cell_type": "code",
   "execution_count": null,
   "metadata": {},
   "outputs": [],
   "source": [
    "pca_dum = PCA(.95)"
   ]
  },
  {
   "cell_type": "code",
   "execution_count": null,
   "metadata": {},
   "outputs": [],
   "source": [
    "pca_dum.fit(Xdum_train)"
   ]
  },
  {
   "cell_type": "code",
   "execution_count": null,
   "metadata": {},
   "outputs": [],
   "source": [
    "Zdum_train = pca_dum.transform(Xdum_train)\n",
    "Zdum_test = pca_dum.transform(Xdum_test)"
   ]
  },
  {
   "cell_type": "markdown",
   "metadata": {},
   "source": [
    "## Random Forrest on Dummy Data\n",
    "### Random forest had highest accuracy of 78.6% but lower precision than AdaBoost using just numerical data"
   ]
  },
  {
   "cell_type": "code",
   "execution_count": null,
   "metadata": {},
   "outputs": [],
   "source": [
    "rf_dum = RandomForestClassifier(n_jobs=4)\n",
    "rf_params = {'n_estimators':[8,10,12,14,20],\n",
    "            'min_samples_split':[2,3,4],\n",
    "            'random_state':[1,21,31,100]}\n",
    "rf_dum_gs = GridSearchCV(rf_dum, rf_params, n_jobs=4)\n",
    "rf_dum_gs.fit(Zdum_train, ydum_train)\n",
    "rf_dum_gs.best_params_"
   ]
  },
  {
   "cell_type": "code",
   "execution_count": null,
   "metadata": {},
   "outputs": [],
   "source": [
    "rf_dum_preds = rf_dum_gs.predict(Zdum_test)"
   ]
  },
  {
   "cell_type": "code",
   "execution_count": null,
   "metadata": {},
   "outputs": [],
   "source": [
    "precision_score(ydum_test, rf_dum_preds), accuracy_score(ydum_test, rf_dum_preds)"
   ]
  },
  {
   "cell_type": "markdown",
   "metadata": {},
   "source": [
    "## AdaBoost on Dummy Data"
   ]
  },
  {
   "cell_type": "code",
   "execution_count": null,
   "metadata": {},
   "outputs": [],
   "source": [
    "ada_dum = AdaBoostClassifier()\n",
    "ada_dum_params = {'n_estimators':[30,40,50,60,80],\n",
    "             'learning_rate':[.8,.4,.1],}\n",
    "ada_dum_gs = GridSearchCV(ada_dum, ada_params, n_jobs=4)\n",
    "ada_dum_gs.fit(Zdum_train, ydum_train)"
   ]
  },
  {
   "cell_type": "code",
   "execution_count": null,
   "metadata": {},
   "outputs": [],
   "source": [
    "ada_dum_preds = ada_dum_gs.predict(Zdum_test)"
   ]
  },
  {
   "cell_type": "code",
   "execution_count": null,
   "metadata": {},
   "outputs": [],
   "source": [
    "ada_dum_gs.best_params_"
   ]
  },
  {
   "cell_type": "code",
   "execution_count": null,
   "metadata": {},
   "outputs": [],
   "source": [
    "precision_score(ydum_test, ada_dum_preds), accuracy_score(ydum_test, ada_dum_preds)"
   ]
  },
  {
   "cell_type": "markdown",
   "metadata": {},
   "source": [
    "## Gradient Boost on Dummy Data"
   ]
  },
  {
   "cell_type": "code",
   "execution_count": null,
   "metadata": {},
   "outputs": [],
   "source": [
    "xgb_dum = GradientBoostingClassifier()\n",
    "xgb_dum_params = {'learning_rate':[.01, .05, .1, .3, .5],\n",
    "             'n_estimators':[50,80, 100, 120]}\n",
    "xgb_dum_gs = GridSearchCV(xgb_dum, xgb_dum_params, n_jobs=4)\n",
    "xgb_dum_gs.fit(Zdum_train, ydum_train)"
   ]
  },
  {
   "cell_type": "code",
   "execution_count": null,
   "metadata": {},
   "outputs": [],
   "source": [
    "xgb_dum_gs.best_params_"
   ]
  },
  {
   "cell_type": "code",
   "execution_count": null,
   "metadata": {},
   "outputs": [],
   "source": [
    "xgb_dum_preds = xgb_dum_gs.predict(Zdum_test)"
   ]
  },
  {
   "cell_type": "code",
   "execution_count": null,
   "metadata": {},
   "outputs": [],
   "source": [
    "precision_score(ydum_test, xgb_dum_preds), accuracy_score(ydum_test, xgb_dum_preds)"
   ]
  },
  {
   "cell_type": "markdown",
   "metadata": {},
   "source": [
    "# Suzanne Pipeline"
   ]
  },
  {
   "cell_type": "code",
   "execution_count": null,
   "metadata": {},
   "outputs": [],
   "source": [
    "X = df.drop(columns = ['WnvPresent', 'Address', \n",
    "                           'Species', 'Street', 'Trap', \n",
    "                           'AddressNumberAndStreet', 'WetBulb'\n",
    "                           , 'Heat', 'CodeSum'],\n",
    "                            axis = 1)\n",
    "y = df['WnvPresent']\n",
    "\n",
    "X_train, X_test, y_train, y_test = train_test_split(X, y, \n",
    "                                                   test_size = 0.33, \n",
    "                                                   random_state = 42)\n",
    "\n",
    "# Instantiating Preprocessing and Model \n",
    "lr = LogisticRegression()\n",
    "ss = StandardScaler()\n",
    "\n",
    "# Setting up Pipeline \n",
    "\n",
    "lr_pipe = Pipeline([\n",
    "    ('ss', ss),\n",
    "    ('lr', lr)\n",
    "])\n",
    "\n",
    "# Setting up Parameter Dictionary \n",
    "gs_lr_params = {\n",
    "    'lr__penalty': ['l1', 'l2'], \n",
    "    'lr__C': [0.5, 1.0, 1.2]\n",
    "}\n",
    "\n",
    "# Instantiating and Fitting my Grid Search\n",
    "gs_lr = GridSearchCV(lr_pipe, param_grid=gs_lr_params)\n",
    "gs_lr.fit(X_train, y_train);\n",
    "\n",
    "print(\"Best Params:\", gs_lr.best_params_)\n",
    "print(\"Best Train Score:\", gs_lr.best_score_ )\n",
    "print(\"Best Test Score:\", gs_lr.score(X_test, y_test) )"
   ]
  },
  {
   "cell_type": "code",
   "execution_count": null,
   "metadata": {},
   "outputs": [],
   "source": []
  }
 ],
 "metadata": {
  "kernelspec": {
   "display_name": "Python 3",
   "language": "python",
   "name": "python3"
  },
  "language_info": {
   "codemirror_mode": {
    "name": "ipython",
    "version": 3
   },
   "file_extension": ".py",
   "mimetype": "text/x-python",
   "name": "python",
   "nbconvert_exporter": "python",
   "pygments_lexer": "ipython3",
   "version": "3.6.5"
  }
 },
 "nbformat": 4,
 "nbformat_minor": 2
}
